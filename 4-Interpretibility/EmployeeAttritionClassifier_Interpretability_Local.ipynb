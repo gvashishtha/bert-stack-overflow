{
 "cells": [
  {
   "cell_type": "markdown",
   "metadata": {},
   "source": [
    "# Interpretability With Tensorflow On Azure Machine Learning Service (Local)\n",
    "\n",
    "## Overview of Tutorial\n",
    "This notebook is Part 4 (Explaining Your Model Using Interpretability) of a four part workshop that demonstrates an end-to-end workflow for using Tensorflow on Azure Machine Learning Service. The different components of the workshop are as follows:\n",
    "\n",
    "- Part 1: [Preparing Data and Model Training](https://github.com/microsoft/bert-stack-overflow/blob/master/1-Training/AzureServiceClassifier_Training.ipynb)\n",
    "- Part 2: [Inferencing and Deploying a Model](https://github.com/microsoft/bert-stack-overflow/blob/master/2-Inferencing/AzureServiceClassifier_Inferencing.ipynb)\n",
    "- Part 3: [Setting Up a Pipeline Using MLOps](https://github.com/microsoft/bert-stack-overflow/tree/master/3-ML-Ops)\n",
    "- Part 4: [Explaining Your Model Interpretability](https://github.com/microsoft/bert-stack-overflow/blob/master/4-Interpretibility/IBMEmployeeAttritionClassifier_Interpretability.ipynb)\n",
    "\n",
    "_**This notebook showcases how to use the Azure Machine Learning Interpretability SDK to train and explain a binary classification model locally.**_"
   ]
  },
  {
   "cell_type": "markdown",
   "metadata": {},
   "source": [
    "## What is Azure Machine Learning Service?\n",
    "Azure Machine Learning service is a cloud service that you can use to develop and deploy machine learning models. Using Azure Machine Learning service, you can track your models as you build, train, deploy, and manage them, all at the broad scale that the cloud provides.\n",
    "![](./images/aml-overview.png)\n"
   ]
  },
  {
   "cell_type": "markdown",
   "metadata": {},
   "source": [
    "## What Is Machine Learning Interpretability?\n",
    "Interpretability is the ability to explain why your model made the predictions it did. The Azure Machine Learning service offers various interpretability features to help accomplish this task. These features include:\n",
    "\n",
    "- Feature importance values for both raw and engineered features.\n",
    "- Interpretability on real-world datasets at scale, during training and inference.\n",
    "- Interactive visualizations to aid you in the discovery of patterns in data and explanations at training time.\n",
    "\n",
    "By accurately interpretabiliting your model, it allows you to:\n",
    "\n",
    "- Use the insights for debugging your model.\n",
    "- Validate model behavior matches their objectives.\n",
    "- Check for for bias in the model.\n",
    "- Build trust in your customers and stakeholders.\n",
    "\n",
    "![](./images/interpretability-architecture.png)"
   ]
  },
  {
   "cell_type": "markdown",
   "metadata": {},
   "source": [
    "## Change Tensorflow and Interpret Library Versions\n",
    "\n",
    "We will be using an older version (1.14) for this particular tutorial in the series as Tensorflow 2.0 is not yet supported for Interpretibility on Azure Machine Learning service. We will also be using version 0.1.0.4 of the interpret library. \n",
    "\n",
    "If haven't already done so, please update your library versions."
   ]
  },
  {
   "cell_type": "code",
   "execution_count": null,
   "metadata": {},
   "outputs": [
    {
     "name": "stdout",
     "output_type": "stream",
     "text": [
      "Uninstalling tensorflow-gpu-1.14.0:\n",
      "  Successfully uninstalled tensorflow-gpu-1.14.0\n",
      "\u001b[33mWARNING: Skipping keras as it is not installed.\u001b[0m\n",
      "Note: you may need to restart the kernel to use updated packages.\n",
      "Collecting tensorflow-gpu==1.14\n",
      "  Using cached https://files.pythonhosted.org/packages/76/04/43153bfdfcf6c9a4c38ecdb971ca9a75b9a791bb69a764d652c359aca504/tensorflow_gpu-1.14.0-cp36-cp36m-manylinux1_x86_64.whl\n"
     ]
    }
   ],
   "source": [
    "%pip uninstall tensorflow-gpu keras --yes\n",
    "%pip install tensorflow-gpu==1.14 interpret-community==0.1.0.4"
   ]
  },
  {
   "cell_type": "markdown",
   "metadata": {},
   "source": [
    "After installing packages, you must close and reopen the notebook as well as restarting the kernel.\n",
    "\n",
    "Let's make sure we have the right verisons"
   ]
  },
  {
   "cell_type": "code",
   "execution_count": 19,
   "metadata": {},
   "outputs": [
    {
     "name": "stdout",
     "output_type": "stream",
     "text": [
      "1.14.0\n"
     ]
    }
   ],
   "source": [
    "import tensorflow as tf\n",
    "import interpret_community\n",
    "\n",
    "print(tf.version.VERSION)"
   ]
  },
  {
   "cell_type": "markdown",
   "metadata": {},
   "source": [
    "## Train Model\n",
    "For this tutorial, we will be using the *tf.keras module* to train a basic feed forward neural network on the IBM Employee Attrition Dataset. \n",
    "\n",
    "**We will start by writing the training script to train our model**"
   ]
  },
  {
   "cell_type": "code",
   "execution_count": 20,
   "metadata": {},
   "outputs": [
    {
     "name": "stdout",
     "output_type": "stream",
     "text": [
      "Train on 1176 samples, validate on 294 samples\n",
      "Epoch 1/20\n",
      "1176/1176 [==============================] - 0s 167us/sample - loss: 0.7689 - acc: 0.3903 - val_loss: 0.6767 - val_acc: 0.5306\n",
      "Epoch 2/20\n",
      "1176/1176 [==============================] - 0s 15us/sample - loss: 0.6253 - acc: 0.6105 - val_loss: 0.5807 - val_acc: 0.6939\n",
      "Epoch 3/20\n",
      "1176/1176 [==============================] - 0s 15us/sample - loss: 0.5428 - acc: 0.7594 - val_loss: 0.5112 - val_acc: 0.8061\n",
      "Epoch 4/20\n",
      "1176/1176 [==============================] - 0s 14us/sample - loss: 0.4828 - acc: 0.8231 - val_loss: 0.4612 - val_acc: 0.8265\n",
      "Epoch 5/20\n",
      "1176/1176 [==============================] - 0s 15us/sample - loss: 0.4437 - acc: 0.8359 - val_loss: 0.4345 - val_acc: 0.8333\n",
      "Epoch 6/20\n",
      "1176/1176 [==============================] - 0s 14us/sample - loss: 0.4219 - acc: 0.8401 - val_loss: 0.4150 - val_acc: 0.8435\n",
      "Epoch 7/20\n",
      "1176/1176 [==============================] - 0s 15us/sample - loss: 0.4060 - acc: 0.8401 - val_loss: 0.4043 - val_acc: 0.8401\n",
      "Epoch 8/20\n",
      "1176/1176 [==============================] - 0s 15us/sample - loss: 0.3947 - acc: 0.8410 - val_loss: 0.3952 - val_acc: 0.8435\n",
      "Epoch 9/20\n",
      "1176/1176 [==============================] - 0s 15us/sample - loss: 0.3842 - acc: 0.8410 - val_loss: 0.3868 - val_acc: 0.8469\n",
      "Epoch 10/20\n",
      "1176/1176 [==============================] - 0s 15us/sample - loss: 0.3736 - acc: 0.8444 - val_loss: 0.3795 - val_acc: 0.8469\n",
      "Epoch 11/20\n",
      "1176/1176 [==============================] - 0s 15us/sample - loss: 0.3640 - acc: 0.8452 - val_loss: 0.3713 - val_acc: 0.8469\n",
      "Epoch 12/20\n",
      "1176/1176 [==============================] - 0s 15us/sample - loss: 0.3543 - acc: 0.8520 - val_loss: 0.3663 - val_acc: 0.8469\n",
      "Epoch 13/20\n",
      "1176/1176 [==============================] - 0s 15us/sample - loss: 0.3448 - acc: 0.8537 - val_loss: 0.3611 - val_acc: 0.8537\n",
      "Epoch 14/20\n",
      "1176/1176 [==============================] - 0s 15us/sample - loss: 0.3362 - acc: 0.8580 - val_loss: 0.3576 - val_acc: 0.8537\n",
      "Epoch 15/20\n",
      "1176/1176 [==============================] - 0s 16us/sample - loss: 0.3287 - acc: 0.8614 - val_loss: 0.3526 - val_acc: 0.8571\n",
      "Epoch 16/20\n",
      "1176/1176 [==============================] - 0s 16us/sample - loss: 0.3206 - acc: 0.8707 - val_loss: 0.3479 - val_acc: 0.8503\n",
      "Epoch 17/20\n",
      "1176/1176 [==============================] - 0s 19us/sample - loss: 0.3134 - acc: 0.8776 - val_loss: 0.3450 - val_acc: 0.8639\n",
      "Epoch 18/20\n",
      "1176/1176 [==============================] - 0s 17us/sample - loss: 0.3061 - acc: 0.8801 - val_loss: 0.3438 - val_acc: 0.8639\n",
      "Epoch 19/20\n",
      "1176/1176 [==============================] - 0s 15us/sample - loss: 0.3005 - acc: 0.8861 - val_loss: 0.3422 - val_acc: 0.8673\n",
      "Epoch 20/20\n",
      "1176/1176 [==============================] - 0s 16us/sample - loss: 0.2950 - acc: 0.8903 - val_loss: 0.3402 - val_acc: 0.8741\n"
     ]
    },
    {
     "data": {
      "text/plain": [
       "<tensorflow.python.keras.callbacks.History at 0x7f1c206b7fd0>"
      ]
     },
     "execution_count": 20,
     "metadata": {},
     "output_type": "execute_result"
    }
   ],
   "source": [
    "import pandas as pd \n",
    "import numpy as np\n",
    "import tensorflow as tf\n",
    "from sklearn.pipeline import Pipeline\n",
    "from sklearn.compose import ColumnTransformer\n",
    "from sklearn.pipeline import make_pipeline\n",
    "from sklearn.impute import SimpleImputer\n",
    "from sklearn.preprocessing import StandardScaler, OneHotEncoder\n",
    "from sklearn.model_selection import train_test_split\n",
    "\n",
    "def preprocess_data(data):\n",
    "    '''\n",
    "    \n",
    "    '''\n",
    "    # Dropping Employee count as all values are 1 and hence attrition is independent of this feature\n",
    "    data = data.drop(['EmployeeCount'], axis=1)\n",
    "    \n",
    "    # Dropping Employee Number since it is merely an identifier\n",
    "    data = data.drop(['EmployeeNumber'], axis=1)\n",
    "    data = data.drop(['Over18'], axis=1)\n",
    "\n",
    "    # Since all values are 80\n",
    "    data = data.drop(['StandardHours'], axis=1)\n",
    "\n",
    "    # Converting target variables from string to numerical values\n",
    "    target_map = {'Yes': 1, 'No': 0}\n",
    "    data[\"Attrition_numerical\"] = data[\"Attrition\"].apply(lambda x: target_map[x])\n",
    "    target = data[\"Attrition_numerical\"]\n",
    "\n",
    "    data.drop(['Attrition_numerical', 'Attrition'], axis=1, inplace=True)\n",
    "    \n",
    "    # Creating dummy columns for each categorical feature\n",
    "    categorical = []\n",
    "    for col, value in data.iteritems():\n",
    "        if value.dtype == 'object':\n",
    "            categorical.append(col)\n",
    "\n",
    "    # Store the numerical columns in a list numerical\n",
    "    numerical = data.columns.difference(categorical)   \n",
    "\n",
    "    # We create the preprocessing pipelines for both numeric and categorical data.\n",
    "    numeric_transformer = Pipeline(steps=[\n",
    "        ('imputer', SimpleImputer(strategy='median')),\n",
    "        ('scaler', StandardScaler())])\n",
    "\n",
    "    categorical_transformer = Pipeline(steps=[\n",
    "        ('imputer', SimpleImputer(strategy='constant', fill_value='missing')),\n",
    "        ('onehot', OneHotEncoder(handle_unknown='ignore'))])\n",
    "\n",
    "    preprocess = ColumnTransformer(\n",
    "        transformers=[\n",
    "            ('num', numeric_transformer, numerical),\n",
    "            ('cat', categorical_transformer, categorical)])\n",
    "    \n",
    "    pipeline = make_pipeline(preprocess)\n",
    "\n",
    "    # Split data into train and test sets\n",
    "    x_train, x_test, y_train, y_test = train_test_split(data, \n",
    "                                                        target, \n",
    "                                                        test_size=0.2,\n",
    "                                                        random_state=0,\n",
    "                                                        stratify=target)\n",
    "    \n",
    "    return x_train, x_test, y_train, y_test, pipeline, preprocess\n",
    "    \n",
    "# Load and preprocess data\n",
    "attrition_data = pd.read_csv('./data/data.csv')\n",
    "x_train, x_test, y_train, y_test, pipeline, preprocess = preprocess_data(attrition_data)\n",
    "\n",
    "# Transform data\n",
    "x_train_t = pipeline.fit_transform(x_train)\n",
    "x_test_t = pipeline.transform(x_test)\n",
    "\n",
    "# Create model\n",
    "model = tf.keras.models.Sequential()\n",
    "model.add(tf.keras.layers.Dense(units=16, activation='relu', input_shape=(x_train_t.shape[1],)))\n",
    "model.add(tf.keras.layers.Dense(units=16, activation='relu'))\n",
    "model.add(tf.keras.layers.Dense(units=1, activation='sigmoid'))\n",
    "\n",
    "# Compile model\n",
    "model.compile(loss='binary_crossentropy', optimizer='rmsprop', metrics=['accuracy']) \n",
    "\n",
    "# Fit model\n",
    "model.fit(x_train_t, y_train, epochs=20, verbose=1, batch_size=128, validation_data=(x_test_t, y_test))"
   ]
  },
  {
   "cell_type": "markdown",
   "metadata": {},
   "source": [
    "## Explain Model Locally\n",
    "\n",
    "We will start by explaining the trained model locally."
   ]
  },
  {
   "cell_type": "markdown",
   "metadata": {},
   "source": [
    "**Instantiate the explainer object using trained model.**"
   ]
  },
  {
   "cell_type": "code",
   "execution_count": 21,
   "metadata": {},
   "outputs": [],
   "source": [
    "from interpret.ext.greybox import DeepExplainer\n",
    "\n",
    "explainer = DeepExplainer(model,\n",
    "                          x_train,\n",
    "                          features=x_train.columns,\n",
    "                          classes=[\"STAYING\", \"LEAVING\"], \n",
    "                          transformations = preprocess,\n",
    "                          model_task=\"classification\",\n",
    "                          is_classifier=True)"
   ]
  },
  {
   "cell_type": "markdown",
   "metadata": {},
   "source": [
    "**Generate global explanations**"
   ]
  },
  {
   "cell_type": "code",
   "execution_count": 22,
   "metadata": {},
   "outputs": [],
   "source": [
    "# Passing in test dataset for evaluation examples - note it must be a representative sample of the original data\n",
    "# x_train can be passed as well, but with more examples explanations will take longer although they may be more accurate\n",
    "global_explanation = explainer.explain_global(x_test)"
   ]
  },
  {
   "cell_type": "code",
   "execution_count": 23,
   "metadata": {},
   "outputs": [
    {
     "name": "stdout",
     "output_type": "stream",
     "text": [
      "global importance rank: {'EducationField': 0.053873279205873495, 'JobSatisfaction': 0.03953571012067353, 'OverTime': 0.038583560133207156, 'NumCompaniesWorked': 0.03640758117990181, 'MaritalStatus': 0.029883175044257942, 'YearsSinceLastPromotion': 0.02740686255297018, 'WorkLifeBalance': 0.025936746100254413, 'Age': 0.025243059923775336, 'EnvironmentSatisfaction': 0.024909378453501194, 'JobRole': 0.024056074550579537, 'JobInvolvement': 0.023541541358297214, 'YearsInCurrentRole': 0.020543295211741034, 'MonthlyIncome': 0.02048903332178757, 'RelationshipSatisfaction': 0.017865455491885895, 'Department': 0.016978380925069186, 'DistanceFromHome': 0.016530930528834187, 'BusinessTravel': 0.014322739471855634, 'TotalWorkingYears': 0.012453615317841563, 'DailyRate': 0.011737043367600794, 'StockOptionLevel': 0.011188063218993892, 'YearsWithCurrManager': 0.01045222903210198, 'YearsAtCompany': 0.00971274163942977, 'HourlyRate': 0.00966349132097822, 'PercentSalaryHike': 0.008843251050813376, 'JobLevel': 0.007890152720531868, 'Gender': 0.007496610022988447, 'MonthlyRate': 0.005103606391774755, 'TrainingTimesLastYear': 0.004966644990881875, 'Education': 0.0046528384198318215, 'PerformanceRating': 0.004132269554156894}\n"
     ]
    }
   ],
   "source": [
    "# Print out a dictionary that holds the sorted feature importance names and values\n",
    "print('global importance rank: {}'.format(global_explanation.get_feature_importance_dict()))"
   ]
  },
  {
   "cell_type": "code",
   "execution_count": 24,
   "metadata": {},
   "outputs": [
    {
     "name": "stdout",
     "output_type": "stream",
     "text": [
      "ranked per class feature names: [['EducationField', 'JobSatisfaction', 'OverTime', 'NumCompaniesWorked', 'MaritalStatus', 'YearsSinceLastPromotion', 'WorkLifeBalance', 'Age', 'EnvironmentSatisfaction', 'JobRole', 'JobInvolvement', 'YearsInCurrentRole', 'MonthlyIncome', 'RelationshipSatisfaction', 'Department', 'DistanceFromHome', 'BusinessTravel', 'TotalWorkingYears', 'DailyRate', 'StockOptionLevel', 'YearsWithCurrManager', 'YearsAtCompany', 'HourlyRate', 'PercentSalaryHike', 'JobLevel', 'Gender', 'MonthlyRate', 'TrainingTimesLastYear', 'Education', 'PerformanceRating'], ['EducationField', 'JobSatisfaction', 'OverTime', 'NumCompaniesWorked', 'MaritalStatus', 'YearsSinceLastPromotion', 'WorkLifeBalance', 'Age', 'EnvironmentSatisfaction', 'JobRole', 'JobInvolvement', 'YearsInCurrentRole', 'MonthlyIncome', 'RelationshipSatisfaction', 'Department', 'DistanceFromHome', 'BusinessTravel', 'TotalWorkingYears', 'DailyRate', 'StockOptionLevel', 'YearsWithCurrManager', 'YearsAtCompany', 'HourlyRate', 'PercentSalaryHike', 'JobLevel', 'Gender', 'MonthlyRate', 'TrainingTimesLastYear', 'Education', 'PerformanceRating']]\n",
      "ranked per class feature values: [[0.053873279205873495, 0.03953571012067353, 0.038583560133207156, 0.03640758117990181, 0.029883175044257942, 0.02740686255297018, 0.025936746100254413, 0.025243059923775336, 0.024909378453501194, 0.024056074550579537, 0.023541541358297214, 0.020543295211741034, 0.02048903332178757, 0.017865455491885895, 0.016978380925069186, 0.016530930528834187, 0.014322739471855634, 0.012453615317841563, 0.011737043367600794, 0.011188063218993892, 0.01045222903210198, 0.00971274163942977, 0.00966349132097822, 0.008843251050813376, 0.007890152720531868, 0.007496610022988447, 0.005103606391774755, 0.004966644990881875, 0.0046528384198318215, 0.004132269554156894], [0.053873279205873495, 0.03953571012067353, 0.038583560133207156, 0.03640758117990181, 0.029883175044257942, 0.02740686255297018, 0.025936746100254413, 0.025243059923775336, 0.024909378453501194, 0.024056074550579537, 0.023541541358297214, 0.020543295211741034, 0.02048903332178757, 0.017865455491885895, 0.016978380925069186, 0.016530930528834187, 0.014322739471855634, 0.012453615317841563, 0.011737043367600794, 0.011188063218993892, 0.01045222903210198, 0.00971274163942977, 0.00966349132097822, 0.008843251050813376, 0.007890152720531868, 0.007496610022988447, 0.005103606391774755, 0.004966644990881875, 0.0046528384198318215, 0.004132269554156894]]\n"
     ]
    }
   ],
   "source": [
    "# Per class feature names\n",
    "print('ranked per class feature names: {}'.format(global_explanation.get_ranked_per_class_names()))\n",
    "\n",
    "# Per class feature importance values\n",
    "print('ranked per class feature values: {}'.format(global_explanation.get_ranked_per_class_values()))"
   ]
  },
  {
   "cell_type": "markdown",
   "metadata": {},
   "source": [
    "**Generate local explanations**"
   ]
  },
  {
   "cell_type": "code",
   "execution_count": 25,
   "metadata": {},
   "outputs": [
    {
     "name": "stdout",
     "output_type": "stream",
     "text": [
      "local importance values: [[[0.04342116583138704, 0.03674833151006784, 0.022893913795502326, 0.016427155338850478, 0.014972139429301024, 0.011560527652549094, 0.009173502097810305, 0.008018425133635074, 0.005188390924937305, 0.0039744281295333705, 0.0039462783451609, 0.003842337903712896, 0.002779007529655213, 0.0023964009358080716, 0.0018396283919989028, 0.0012093021415323102, 0.0009178496431559324, 0.00018800738107529468, 0.0, 0.0, 0.0, -4.9312862829227565e-05, -0.0008976143394395346, -0.0034775503413386846, -0.005650149990708967, -0.00817697712711508, -0.015045928765388503, -0.015105825511097477, -0.018208197918336413, -0.0426478537150794]], [[0.0426478537150794, 0.018208197918336413, 0.015105825511097477, 0.015045928765388503, 0.00817697712711508, 0.005650149990708967, 0.0034775503413386846, 0.0008976143394395346, 4.9312862829227565e-05, 0.0, 0.0, 0.0, -0.00018800738107529468, -0.0009178496431559324, -0.0012093021415323102, -0.0018396283919989028, -0.0023964009358080716, -0.002779007529655213, -0.003842337903712896, -0.0039462783451609, -0.0039744281295333705, -0.005188390924937305, -0.008018425133635074, -0.009173502097810305, -0.011560527652549094, -0.014972139429301024, -0.016427155338850478, -0.022893913795502326, -0.03674833151006784, -0.04342116583138704]]]\n",
      "local importance names: [[['EducationField', 'MonthlyIncome', 'Age', 'WorkLifeBalance', 'MaritalStatus', 'DailyRate', 'YearsSinceLastPromotion', 'JobSatisfaction', 'NumCompaniesWorked', 'PerformanceRating', 'YearsAtCompany', 'RelationshipSatisfaction', 'StockOptionLevel', 'DistanceFromHome', 'MonthlyRate', 'TotalWorkingYears', 'Gender', 'JobRole', 'OverTime', 'BusinessTravel', 'Department', 'JobLevel', 'Education', 'TrainingTimesLastYear', 'PercentSalaryHike', 'HourlyRate', 'YearsInCurrentRole', 'JobInvolvement', 'YearsWithCurrManager', 'EnvironmentSatisfaction']], [['EnvironmentSatisfaction', 'YearsWithCurrManager', 'JobInvolvement', 'YearsInCurrentRole', 'HourlyRate', 'PercentSalaryHike', 'TrainingTimesLastYear', 'Education', 'JobLevel', 'OverTime', 'Department', 'BusinessTravel', 'JobRole', 'Gender', 'TotalWorkingYears', 'MonthlyRate', 'DistanceFromHome', 'StockOptionLevel', 'RelationshipSatisfaction', 'YearsAtCompany', 'PerformanceRating', 'NumCompaniesWorked', 'JobSatisfaction', 'YearsSinceLastPromotion', 'DailyRate', 'MaritalStatus', 'WorkLifeBalance', 'Age', 'MonthlyIncome', 'EducationField']]]\n"
     ]
    }
   ],
   "source": [
    "# You can pass a specific data point or a group of data points to the explain_local function\n",
    "# E.g., Explain the first data point in the test set\n",
    "instance_num = 1\n",
    "local_explanation = explainer.explain_local(x_test[:instance_num])\n",
    "\n",
    "sorted_local_importance_values = local_explanation.get_ranked_local_values()\n",
    "sorted_local_importance_names = local_explanation.get_ranked_local_names()\n",
    "\n",
    "print('local importance values: {}'.format(sorted_local_importance_values))\n",
    "print('local importance names: {}'.format(sorted_local_importance_names))"
   ]
  },
  {
   "cell_type": "markdown",
   "metadata": {},
   "source": [
    "**Visualize our explanations**"
   ]
  },
  {
   "cell_type": "code",
   "execution_count": 11,
   "metadata": {
    "scrolled": false
   },
   "outputs": [
    {
     "data": {
      "application/vnd.jupyter.widget-view+json": {
       "model_id": "75493807b6d64b06b6aa59e2cf5fa88f",
       "version_major": 2,
       "version_minor": 0
      },
      "text/plain": [
       "ExplanationWidget(value={'predictedY': [0, 0, 0, 0, 0, 0, 0, 0, 0, 0, 0, 0, 0, 0, 0, 0, 0, 0, 0, 0, 0, 0, 0, 0…"
      ]
     },
     "metadata": {},
     "output_type": "display_data"
    },
    {
     "data": {
      "text/plain": [
       "<interpret_community.widget.ExplanationDashboard.ExplanationDashboard at 0x7f41147dcd68>"
      ]
     },
     "execution_count": 11,
     "metadata": {},
     "output_type": "execute_result"
    }
   ],
   "source": [
    "from interpret_community.widget import ExplanationDashboard\n",
    "from interpret_community.common.model_wrapper import wrap_model\n",
    "from interpret_community.dataset.dataset_wrapper import DatasetWrapper\n",
    "from sklearn.pipeline import Pipeline\n",
    "\n",
    "wrapped_model, ml_domain = wrap_model(model, DatasetWrapper(x_test_t), \"classification\")\n",
    "wrapped_model.fit = model.fit\n",
    "dashboard_pipeline = Pipeline(steps=[('preprocess', preprocess), ('network', wrapped_model)])\n",
    "ExplanationDashboard(global_explanation, dashboard_pipeline, datasetX=x_test)"
   ]
  },
  {
   "cell_type": "code",
   "execution_count": null,
   "metadata": {},
   "outputs": [],
   "source": []
  }
 ],
 "metadata": {
  "kernelspec": {
   "display_name": "Python 3",
   "language": "python",
   "name": "python3"
  },
  "language_info": {
   "codemirror_mode": {
    "name": "ipython",
    "version": 3
   },
   "file_extension": ".py",
   "mimetype": "text/x-python",
   "name": "python",
   "nbconvert_exporter": "python",
   "pygments_lexer": "ipython3",
   "version": "3.6.9"
  }
 },
 "nbformat": 4,
 "nbformat_minor": 2
}
