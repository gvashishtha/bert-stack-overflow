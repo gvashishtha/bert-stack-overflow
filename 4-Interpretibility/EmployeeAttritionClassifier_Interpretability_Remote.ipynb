{
 "cells": [
  {
   "cell_type": "markdown",
   "metadata": {},
   "source": [
    "Copyright (c) Microsoft Corporation. All rights reserved.\n",
    "\n",
    "Licensed under the MIT License."
   ]
  },
  {
   "cell_type": "markdown",
   "metadata": {},
   "source": [
    "![Impressions](https://PixelServer20190423114238.azurewebsites.net/api/impressions/MachineLearningNotebooks/how-to-use-azureml/explain-model/explain-on-amlcompute/regression-sklearn-on-amlcompute.png)"
   ]
  },
  {
   "cell_type": "markdown",
   "metadata": {},
   "source": [
    "# Interpretability With Tensorflow On Azure Machine Learning Service (Remote)\n",
    "\n",
    "\n",
    "## Overview of Tutorial\n",
    "This notebook is Part 4 (Explaining Your Model Using Interpretability) of a four part workshop that demonstrates an end-to-end workflow for using Tensorflow on Azure Machine Learning Service. The different components of the workshop are as follows:\n",
    "\n",
    "- Part 1: [Preparing Data and Model Training](https://github.com/microsoft/bert-stack-overflow/blob/master/1-Training/AzureServiceClassifier_Training.ipynb)\n",
    "- Part 2: [Inferencing and Deploying a Model](https://github.com/microsoft/bert-stack-overflow/blob/master/2-Inferencing/AzureServiceClassifier_Inferencing.ipynb)\n",
    "- Part 3: [Setting Up a Pipeline Using MLOps](https://github.com/microsoft/bert-stack-overflow/tree/master/3-ML-Ops)\n",
    "- Part 4: [Explaining Your Model Interpretability](https://github.com/microsoft/bert-stack-overflow/blob/master/4-Interpretibility/IBMEmployeeAttritionClassifier_Interpretability.ipynb)\n",
    "\n",
    "_**This notebook showcases how to use the Azure Machine Learning Interpretability SDK to train and explain a binary classification model remotely on an Azure Machine Leanrning Compute Target (AMLCompute).**_\n",
    "\n",
    "## Table of Contents\n",
    "\n",
    "1. [Introduction](#Introduction)\n",
    "1. [Setup](#Setup)\n",
    "    1. Initialize a Workspace\n",
    "    1. Create an Experiment\n",
    "    1. Introduction to AmlCompute\n",
    "    1. Submit an AmlCompute run \n",
    "1. Additional operations to perform on AmlCompute\n",
    "1. [Download model explanations from Azure Machine Learning Run History](#Download)"
   ]
  },
  {
   "cell_type": "markdown",
   "metadata": {},
   "source": [
    "## Introduction\n",
    "\n",
    "This notebook showcases how to train and explain a binary classification model remotely via Azure Machine Learning Compute (AMLCompute), and download the calculated explanations locally on your personal machine.\n",
    "It demonstrates the API calls that you need to make to submit a run for training and explaining a model to AMLCompute, and download the compute explanations remotely.\n",
    "\n",
    "We will showcase one of the tabular data explainers: TabularExplainer (SHAP).\n",
    "\n",
    "Problem: Employee Attrition Classification Problem\n",
    "\n",
    "\n",
    "\n",
    "![](./images/interpretability-architecture.png)\n",
    "\n"
   ]
  },
  {
   "cell_type": "markdown",
   "metadata": {},
   "source": [
    "## Change Tensorflow and Interpret Library Versions\n",
    "\n",
    "We will be using an older version (1.14) for this particular tutorial in the series as Tensorflow 2.0 is not yet supported for Interpretibility on Azure Machine Learning service. We will also be using version 0.1.0.4 of the interpret library. \n",
    "\n",
    "If haven't already done so, please update your library versions."
   ]
  },
  {
   "cell_type": "code",
   "execution_count": 23,
   "metadata": {},
   "outputs": [
    {
     "name": "stdout",
     "output_type": "stream",
     "text": [
      "Collecting azureml.contrib.interpret\n",
      "  Using cached https://files.pythonhosted.org/packages/05/cf/05ff8cc39de0c97bc1fd564dc618a8256ff5b2f08446556fc73435e69652/azureml_contrib_interpret-1.0.69-py3-none-any.whl\n",
      "Requirement already satisfied, skipping upgrade: azureml-interpret==1.0.69.* in /anaconda/envs/azureml_py36/lib/python3.6/site-packages (from azureml.contrib.interpret) (1.0.69)\n",
      "Collecting interpret-community==0.1.0.2 (from azureml-interpret==1.0.69.*->azureml.contrib.interpret)\n",
      "  Using cached https://files.pythonhosted.org/packages/8b/3b/a7eb6beac2d8b21ea442ffe73d90b236e89c97bc6e2c805bcb96ed2c0bdf/interpret_community-0.1.0.2-py3-none-any.whl\n",
      "Requirement already satisfied, skipping upgrade: shap<=0.29.3,>=0.20.0 in /anaconda/envs/azureml_py36/lib/python3.6/site-packages (from azureml-interpret==1.0.69.*->azureml.contrib.interpret) (0.29.3)\n",
      "Requirement already satisfied, skipping upgrade: interpret>=0.1.17 in /anaconda/envs/azureml_py36/lib/python3.6/site-packages (from interpret-community==0.1.0.2->azureml-interpret==1.0.69.*->azureml.contrib.interpret) (0.1.18)\n",
      "Requirement already satisfied, skipping upgrade: pandas in /anaconda/envs/azureml_py36/lib/python3.6/site-packages (from interpret-community==0.1.0.2->azureml-interpret==1.0.69.*->azureml.contrib.interpret) (0.23.4)\n",
      "Requirement already satisfied, skipping upgrade: packaging in /anaconda/envs/azureml_py36/lib/python3.6/site-packages (from interpret-community==0.1.0.2->azureml-interpret==1.0.69.*->azureml.contrib.interpret) (19.2)\n",
      "Requirement already satisfied, skipping upgrade: scipy in /anaconda/envs/azureml_py36/lib/python3.6/site-packages (from interpret-community==0.1.0.2->azureml-interpret==1.0.69.*->azureml.contrib.interpret) (1.1.0)\n",
      "Requirement already satisfied, skipping upgrade: scikit-learn in /anaconda/envs/azureml_py36/lib/python3.6/site-packages (from interpret-community==0.1.0.2->azureml-interpret==1.0.69.*->azureml.contrib.interpret) (0.20.3)\n",
      "Requirement already satisfied, skipping upgrade: numpy in /anaconda/envs/azureml_py36/lib/python3.6/site-packages (from interpret-community==0.1.0.2->azureml-interpret==1.0.69.*->azureml.contrib.interpret) (1.16.2)\n",
      "Requirement already satisfied, skipping upgrade: matplotlib in /anaconda/envs/azureml_py36/lib/python3.6/site-packages (from shap<=0.29.3,>=0.20.0->azureml-interpret==1.0.69.*->azureml.contrib.interpret) (3.1.1)\n",
      "Requirement already satisfied, skipping upgrade: tqdm>4.25.0 in /anaconda/envs/azureml_py36/lib/python3.6/site-packages (from shap<=0.29.3,>=0.20.0->azureml-interpret==1.0.69.*->azureml.contrib.interpret) (4.36.1)\n",
      "Requirement already satisfied, skipping upgrade: scikit-image in /anaconda/envs/azureml_py36/lib/python3.6/site-packages (from shap<=0.29.3,>=0.20.0->azureml-interpret==1.0.69.*->azureml.contrib.interpret) (0.16.1)\n",
      "Requirement already satisfied, skipping upgrade: ipython in /anaconda/envs/azureml_py36/lib/python3.6/site-packages (from shap<=0.29.3,>=0.20.0->azureml-interpret==1.0.69.*->azureml.contrib.interpret) (7.8.0)\n",
      "Requirement already satisfied, skipping upgrade: interpret-core[dash,debug,decisiontree,ebm,lime,linear,notebook,plotly,required,sensitivity,shap,treeinterpreter]>=0.1.18 in /anaconda/envs/azureml_py36/lib/python3.6/site-packages (from interpret>=0.1.17->interpret-community==0.1.0.2->azureml-interpret==1.0.69.*->azureml.contrib.interpret) (0.1.18)\n",
      "Requirement already satisfied, skipping upgrade: python-dateutil>=2.5.0 in /anaconda/envs/azureml_py36/lib/python3.6/site-packages (from pandas->interpret-community==0.1.0.2->azureml-interpret==1.0.69.*->azureml.contrib.interpret) (2.8.0)\n",
      "Requirement already satisfied, skipping upgrade: pytz>=2011k in /anaconda/envs/azureml_py36/lib/python3.6/site-packages (from pandas->interpret-community==0.1.0.2->azureml-interpret==1.0.69.*->azureml.contrib.interpret) (2019.3)\n",
      "Requirement already satisfied, skipping upgrade: six in /anaconda/envs/azureml_py36/lib/python3.6/site-packages (from packaging->interpret-community==0.1.0.2->azureml-interpret==1.0.69.*->azureml.contrib.interpret) (1.12.0)\n",
      "Requirement already satisfied, skipping upgrade: pyparsing>=2.0.2 in /anaconda/envs/azureml_py36/lib/python3.6/site-packages (from packaging->interpret-community==0.1.0.2->azureml-interpret==1.0.69.*->azureml.contrib.interpret) (2.4.2)\n",
      "Requirement already satisfied, skipping upgrade: kiwisolver>=1.0.1 in /anaconda/envs/azureml_py36/lib/python3.6/site-packages (from matplotlib->shap<=0.29.3,>=0.20.0->azureml-interpret==1.0.69.*->azureml.contrib.interpret) (1.1.0)\n",
      "Requirement already satisfied, skipping upgrade: cycler>=0.10 in /anaconda/envs/azureml_py36/lib/python3.6/site-packages (from matplotlib->shap<=0.29.3,>=0.20.0->azureml-interpret==1.0.69.*->azureml.contrib.interpret) (0.10.0)\n",
      "Requirement already satisfied, skipping upgrade: imageio>=2.3.0 in /anaconda/envs/azureml_py36/lib/python3.6/site-packages (from scikit-image->shap<=0.29.3,>=0.20.0->azureml-interpret==1.0.69.*->azureml.contrib.interpret) (2.6.0)\n",
      "Requirement already satisfied, skipping upgrade: pillow>=4.3.0 in /anaconda/envs/azureml_py36/lib/python3.6/site-packages (from scikit-image->shap<=0.29.3,>=0.20.0->azureml-interpret==1.0.69.*->azureml.contrib.interpret) (6.2.0)\n",
      "Requirement already satisfied, skipping upgrade: PyWavelets>=0.4.0 in /anaconda/envs/azureml_py36/lib/python3.6/site-packages (from scikit-image->shap<=0.29.3,>=0.20.0->azureml-interpret==1.0.69.*->azureml.contrib.interpret) (1.0.3)\n",
      "Requirement already satisfied, skipping upgrade: networkx>=2.0 in /anaconda/envs/azureml_py36/lib/python3.6/site-packages (from scikit-image->shap<=0.29.3,>=0.20.0->azureml-interpret==1.0.69.*->azureml.contrib.interpret) (2.3)\n",
      "Requirement already satisfied, skipping upgrade: pygments in /anaconda/envs/azureml_py36/lib/python3.6/site-packages (from ipython->shap<=0.29.3,>=0.20.0->azureml-interpret==1.0.69.*->azureml.contrib.interpret) (2.4.2)\n",
      "Requirement already satisfied, skipping upgrade: pexpect; sys_platform != \"win32\" in /anaconda/envs/azureml_py36/lib/python3.6/site-packages (from ipython->shap<=0.29.3,>=0.20.0->azureml-interpret==1.0.69.*->azureml.contrib.interpret) (4.7.0)\n",
      "Requirement already satisfied, skipping upgrade: prompt-toolkit<2.1.0,>=2.0.0 in /anaconda/envs/azureml_py36/lib/python3.6/site-packages (from ipython->shap<=0.29.3,>=0.20.0->azureml-interpret==1.0.69.*->azureml.contrib.interpret) (2.0.10)\n",
      "Requirement already satisfied, skipping upgrade: backcall in /anaconda/envs/azureml_py36/lib/python3.6/site-packages (from ipython->shap<=0.29.3,>=0.20.0->azureml-interpret==1.0.69.*->azureml.contrib.interpret) (0.1.0)\n",
      "Requirement already satisfied, skipping upgrade: decorator in /anaconda/envs/azureml_py36/lib/python3.6/site-packages (from ipython->shap<=0.29.3,>=0.20.0->azureml-interpret==1.0.69.*->azureml.contrib.interpret) (4.4.0)\n",
      "Requirement already satisfied, skipping upgrade: setuptools>=18.5 in /anaconda/envs/azureml_py36/lib/python3.6/site-packages (from ipython->shap<=0.29.3,>=0.20.0->azureml-interpret==1.0.69.*->azureml.contrib.interpret) (41.4.0)\n",
      "Requirement already satisfied, skipping upgrade: jedi>=0.10 in /anaconda/envs/azureml_py36/lib/python3.6/site-packages (from ipython->shap<=0.29.3,>=0.20.0->azureml-interpret==1.0.69.*->azureml.contrib.interpret) (0.15.1)\n",
      "Requirement already satisfied, skipping upgrade: traitlets>=4.2 in /anaconda/envs/azureml_py36/lib/python3.6/site-packages (from ipython->shap<=0.29.3,>=0.20.0->azureml-interpret==1.0.69.*->azureml.contrib.interpret) (4.3.3)\n",
      "Requirement already satisfied, skipping upgrade: pickleshare in /anaconda/envs/azureml_py36/lib/python3.6/site-packages (from ipython->shap<=0.29.3,>=0.20.0->azureml-interpret==1.0.69.*->azureml.contrib.interpret) (0.7.5)\n",
      "Requirement already satisfied, skipping upgrade: dash>=1.0.0; extra == \"dash\" in /anaconda/envs/azureml_py36/lib/python3.6/site-packages (from interpret-core[dash,debug,decisiontree,ebm,lime,linear,notebook,plotly,required,sensitivity,shap,treeinterpreter]>=0.1.18->interpret>=0.1.17->interpret-community==0.1.0.2->azureml-interpret==1.0.69.*->azureml.contrib.interpret) (1.4.0)\n",
      "Requirement already satisfied, skipping upgrade: dash-table>=4.1.0; extra == \"dash\" in /anaconda/envs/azureml_py36/lib/python3.6/site-packages (from interpret-core[dash,debug,decisiontree,ebm,lime,linear,notebook,plotly,required,sensitivity,shap,treeinterpreter]>=0.1.18->interpret>=0.1.17->interpret-community==0.1.0.2->azureml-interpret==1.0.69.*->azureml.contrib.interpret) (4.4.0)\n",
      "Requirement already satisfied, skipping upgrade: gevent>=1.3.6; extra == \"dash\" in /anaconda/envs/azureml_py36/lib/python3.6/site-packages (from interpret-core[dash,debug,decisiontree,ebm,lime,linear,notebook,plotly,required,sensitivity,shap,treeinterpreter]>=0.1.18->interpret>=0.1.17->interpret-community==0.1.0.2->azureml-interpret==1.0.69.*->azureml.contrib.interpret) (1.4.0)\n"
     ]
    },
    {
     "name": "stdout",
     "output_type": "stream",
     "text": [
      "Requirement already satisfied, skipping upgrade: dash-cytoscape>=0.1.1; extra == \"dash\" in /anaconda/envs/azureml_py36/lib/python3.6/site-packages (from interpret-core[dash,debug,decisiontree,ebm,lime,linear,notebook,plotly,required,sensitivity,shap,treeinterpreter]>=0.1.18->interpret>=0.1.17->interpret-community==0.1.0.2->azureml-interpret==1.0.69.*->azureml.contrib.interpret) (0.1.1)\n",
      "Requirement already satisfied, skipping upgrade: requests>=2.19.0; extra == \"dash\" in /anaconda/envs/azureml_py36/lib/python3.6/site-packages (from interpret-core[dash,debug,decisiontree,ebm,lime,linear,notebook,plotly,required,sensitivity,shap,treeinterpreter]>=0.1.18->interpret>=0.1.17->interpret-community==0.1.0.2->azureml-interpret==1.0.69.*->azureml.contrib.interpret) (2.22.0)\n",
      "Requirement already satisfied, skipping upgrade: psutil>=5.6.2; extra == \"debug\" in /anaconda/envs/azureml_py36/lib/python3.6/site-packages (from interpret-core[dash,debug,decisiontree,ebm,lime,linear,notebook,plotly,required,sensitivity,shap,treeinterpreter]>=0.1.18->interpret>=0.1.17->interpret-community==0.1.0.2->azureml-interpret==1.0.69.*->azureml.contrib.interpret) (5.6.3)\n",
      "Requirement already satisfied, skipping upgrade: joblib>=0.11; extra == \"decisiontree\" in /anaconda/envs/azureml_py36/lib/python3.6/site-packages (from interpret-core[dash,debug,decisiontree,ebm,lime,linear,notebook,plotly,required,sensitivity,shap,treeinterpreter]>=0.1.18->interpret>=0.1.17->interpret-community==0.1.0.2->azureml-interpret==1.0.69.*->azureml.contrib.interpret) (0.13.2)\n",
      "Requirement already satisfied, skipping upgrade: lime>=0.1.1.33; extra == \"lime\" in /anaconda/envs/azureml_py36/lib/python3.6/site-packages (from interpret-core[dash,debug,decisiontree,ebm,lime,linear,notebook,plotly,required,sensitivity,shap,treeinterpreter]>=0.1.18->interpret>=0.1.17->interpret-community==0.1.0.2->azureml-interpret==1.0.69.*->azureml.contrib.interpret) (0.1.1.36)\n",
      "Requirement already satisfied, skipping upgrade: ipykernel>=5.1.0; extra == \"notebook\" in /anaconda/envs/azureml_py36/lib/python3.6/site-packages (from interpret-core[dash,debug,decisiontree,ebm,lime,linear,notebook,plotly,required,sensitivity,shap,treeinterpreter]>=0.1.18->interpret>=0.1.17->interpret-community==0.1.0.2->azureml-interpret==1.0.69.*->azureml.contrib.interpret) (5.1.2)\n",
      "Requirement already satisfied, skipping upgrade: plotly>=3.8.1; extra == \"plotly\" in /anaconda/envs/azureml_py36/lib/python3.6/site-packages (from interpret-core[dash,debug,decisiontree,ebm,lime,linear,notebook,plotly,required,sensitivity,shap,treeinterpreter]>=0.1.18->interpret>=0.1.17->interpret-community==0.1.0.2->azureml-interpret==1.0.69.*->azureml.contrib.interpret) (4.1.1)\n",
      "Requirement already satisfied, skipping upgrade: SALib>=1.3.3; extra == \"sensitivity\" in /anaconda/envs/azureml_py36/lib/python3.6/site-packages (from interpret-core[dash,debug,decisiontree,ebm,lime,linear,notebook,plotly,required,sensitivity,shap,treeinterpreter]>=0.1.18->interpret>=0.1.17->interpret-community==0.1.0.2->azureml-interpret==1.0.69.*->azureml.contrib.interpret) (1.3.8)\n",
      "Requirement already satisfied, skipping upgrade: dill>=0.2.5; extra == \"shap\" in /anaconda/envs/azureml_py36/lib/python3.6/site-packages (from interpret-core[dash,debug,decisiontree,ebm,lime,linear,notebook,plotly,required,sensitivity,shap,treeinterpreter]>=0.1.18->interpret>=0.1.17->interpret-community==0.1.0.2->azureml-interpret==1.0.69.*->azureml.contrib.interpret) (0.3.1.1)\n",
      "Requirement already satisfied, skipping upgrade: treeinterpreter>=0.2.2; extra == \"treeinterpreter\" in /anaconda/envs/azureml_py36/lib/python3.6/site-packages (from interpret-core[dash,debug,decisiontree,ebm,lime,linear,notebook,plotly,required,sensitivity,shap,treeinterpreter]>=0.1.18->interpret>=0.1.17->interpret-community==0.1.0.2->azureml-interpret==1.0.69.*->azureml.contrib.interpret) (0.2.2)\n",
      "Requirement already satisfied, skipping upgrade: ptyprocess>=0.5 in /anaconda/envs/azureml_py36/lib/python3.6/site-packages (from pexpect; sys_platform != \"win32\"->ipython->shap<=0.29.3,>=0.20.0->azureml-interpret==1.0.69.*->azureml.contrib.interpret) (0.6.0)\n",
      "Requirement already satisfied, skipping upgrade: wcwidth in /anaconda/envs/azureml_py36/lib/python3.6/site-packages (from prompt-toolkit<2.1.0,>=2.0.0->ipython->shap<=0.29.3,>=0.20.0->azureml-interpret==1.0.69.*->azureml.contrib.interpret) (0.1.7)\n",
      "Requirement already satisfied, skipping upgrade: parso>=0.5.0 in /anaconda/envs/azureml_py36/lib/python3.6/site-packages (from jedi>=0.10->ipython->shap<=0.29.3,>=0.20.0->azureml-interpret==1.0.69.*->azureml.contrib.interpret) (0.5.1)\n",
      "Requirement already satisfied, skipping upgrade: ipython-genutils in /anaconda/envs/azureml_py36/lib/python3.6/site-packages (from traitlets>=4.2->ipython->shap<=0.29.3,>=0.20.0->azureml-interpret==1.0.69.*->azureml.contrib.interpret) (0.2.0)\n",
      "Requirement already satisfied, skipping upgrade: dash-core-components==1.3.0 in /anaconda/envs/azureml_py36/lib/python3.6/site-packages (from dash>=1.0.0; extra == \"dash\"->interpret-core[dash,debug,decisiontree,ebm,lime,linear,notebook,plotly,required,sensitivity,shap,treeinterpreter]>=0.1.18->interpret>=0.1.17->interpret-community==0.1.0.2->azureml-interpret==1.0.69.*->azureml.contrib.interpret) (1.3.0)\n",
      "Requirement already satisfied, skipping upgrade: dash-renderer==1.1.1 in /anaconda/envs/azureml_py36/lib/python3.6/site-packages (from dash>=1.0.0; extra == \"dash\"->interpret-core[dash,debug,decisiontree,ebm,lime,linear,notebook,plotly,required,sensitivity,shap,treeinterpreter]>=0.1.18->interpret>=0.1.17->interpret-community==0.1.0.2->azureml-interpret==1.0.69.*->azureml.contrib.interpret) (1.1.1)\n",
      "Requirement already satisfied, skipping upgrade: flask-compress in /anaconda/envs/azureml_py36/lib/python3.6/site-packages (from dash>=1.0.0; extra == \"dash\"->interpret-core[dash,debug,decisiontree,ebm,lime,linear,notebook,plotly,required,sensitivity,shap,treeinterpreter]>=0.1.18->interpret>=0.1.17->interpret-community==0.1.0.2->azureml-interpret==1.0.69.*->azureml.contrib.interpret) (1.4.0)\n",
      "Requirement already satisfied, skipping upgrade: Flask>=1.0.2 in /anaconda/envs/azureml_py36/lib/python3.6/site-packages (from dash>=1.0.0; extra == \"dash\"->interpret-core[dash,debug,decisiontree,ebm,lime,linear,notebook,plotly,required,sensitivity,shap,treeinterpreter]>=0.1.18->interpret>=0.1.17->interpret-community==0.1.0.2->azureml-interpret==1.0.69.*->azureml.contrib.interpret) (1.1.1)\n",
      "Requirement already satisfied, skipping upgrade: future in /anaconda/envs/azureml_py36/lib/python3.6/site-packages (from dash>=1.0.0; extra == \"dash\"->interpret-core[dash,debug,decisiontree,ebm,lime,linear,notebook,plotly,required,sensitivity,shap,treeinterpreter]>=0.1.18->interpret>=0.1.17->interpret-community==0.1.0.2->azureml-interpret==1.0.69.*->azureml.contrib.interpret) (0.18.0)\n",
      "Requirement already satisfied, skipping upgrade: dash-html-components==1.0.1 in /anaconda/envs/azureml_py36/lib/python3.6/site-packages (from dash>=1.0.0; extra == \"dash\"->interpret-core[dash,debug,decisiontree,ebm,lime,linear,notebook,plotly,required,sensitivity,shap,treeinterpreter]>=0.1.18->interpret>=0.1.17->interpret-community==0.1.0.2->azureml-interpret==1.0.69.*->azureml.contrib.interpret) (1.0.1)\n",
      "Requirement already satisfied, skipping upgrade: greenlet>=0.4.14 in /anaconda/envs/azureml_py36/lib/python3.6/site-packages (from gevent>=1.3.6; extra == \"dash\"->interpret-core[dash,debug,decisiontree,ebm,lime,linear,notebook,plotly,required,sensitivity,shap,treeinterpreter]>=0.1.18->interpret>=0.1.17->interpret-community==0.1.0.2->azureml-interpret==1.0.69.*->azureml.contrib.interpret) (0.4.15)\n",
      "Requirement already satisfied, skipping upgrade: urllib3!=1.25.0,!=1.25.1,<1.26,>=1.21.1 in /anaconda/envs/azureml_py36/lib/python3.6/site-packages (from requests>=2.19.0; extra == \"dash\"->interpret-core[dash,debug,decisiontree,ebm,lime,linear,notebook,plotly,required,sensitivity,shap,treeinterpreter]>=0.1.18->interpret>=0.1.17->interpret-community==0.1.0.2->azureml-interpret==1.0.69.*->azureml.contrib.interpret) (1.24.2)\n",
      "Requirement already satisfied, skipping upgrade: chardet<3.1.0,>=3.0.2 in /anaconda/envs/azureml_py36/lib/python3.6/site-packages (from requests>=2.19.0; extra == \"dash\"->interpret-core[dash,debug,decisiontree,ebm,lime,linear,notebook,plotly,required,sensitivity,shap,treeinterpreter]>=0.1.18->interpret>=0.1.17->interpret-community==0.1.0.2->azureml-interpret==1.0.69.*->azureml.contrib.interpret) (3.0.4)\n",
      "Requirement already satisfied, skipping upgrade: idna<2.9,>=2.5 in /anaconda/envs/azureml_py36/lib/python3.6/site-packages (from requests>=2.19.0; extra == \"dash\"->interpret-core[dash,debug,decisiontree,ebm,lime,linear,notebook,plotly,required,sensitivity,shap,treeinterpreter]>=0.1.18->interpret>=0.1.17->interpret-community==0.1.0.2->azureml-interpret==1.0.69.*->azureml.contrib.interpret) (2.8)\n",
      "Requirement already satisfied, skipping upgrade: certifi>=2017.4.17 in /anaconda/envs/azureml_py36/lib/python3.6/site-packages (from requests>=2.19.0; extra == \"dash\"->interpret-core[dash,debug,decisiontree,ebm,lime,linear,notebook,plotly,required,sensitivity,shap,treeinterpreter]>=0.1.18->interpret>=0.1.17->interpret-community==0.1.0.2->azureml-interpret==1.0.69.*->azureml.contrib.interpret) (2019.9.11)\n",
      "Requirement already satisfied, skipping upgrade: tornado>=4.2 in /anaconda/envs/azureml_py36/lib/python3.6/site-packages (from ipykernel>=5.1.0; extra == \"notebook\"->interpret-core[dash,debug,decisiontree,ebm,lime,linear,notebook,plotly,required,sensitivity,shap,treeinterpreter]>=0.1.18->interpret>=0.1.17->interpret-community==0.1.0.2->azureml-interpret==1.0.69.*->azureml.contrib.interpret) (6.0.3)\n",
      "Requirement already satisfied, skipping upgrade: jupyter-client in /anaconda/envs/azureml_py36/lib/python3.6/site-packages (from ipykernel>=5.1.0; extra == \"notebook\"->interpret-core[dash,debug,decisiontree,ebm,lime,linear,notebook,plotly,required,sensitivity,shap,treeinterpreter]>=0.1.18->interpret>=0.1.17->interpret-community==0.1.0.2->azureml-interpret==1.0.69.*->azureml.contrib.interpret) (5.3.3)\n",
      "Requirement already satisfied, skipping upgrade: retrying>=1.3.3 in /anaconda/envs/azureml_py36/lib/python3.6/site-packages (from plotly>=3.8.1; extra == \"plotly\"->interpret-core[dash,debug,decisiontree,ebm,lime,linear,notebook,plotly,required,sensitivity,shap,treeinterpreter]>=0.1.18->interpret>=0.1.17->interpret-community==0.1.0.2->azureml-interpret==1.0.69.*->azureml.contrib.interpret) (1.3.3)\n",
      "Requirement already satisfied, skipping upgrade: itsdangerous>=0.24 in /anaconda/envs/azureml_py36/lib/python3.6/site-packages (from Flask>=1.0.2->dash>=1.0.0; extra == \"dash\"->interpret-core[dash,debug,decisiontree,ebm,lime,linear,notebook,plotly,required,sensitivity,shap,treeinterpreter]>=0.1.18->interpret>=0.1.17->interpret-community==0.1.0.2->azureml-interpret==1.0.69.*->azureml.contrib.interpret) (1.1.0)\n",
      "Requirement already satisfied, skipping upgrade: Werkzeug>=0.15 in /anaconda/envs/azureml_py36/lib/python3.6/site-packages (from Flask>=1.0.2->dash>=1.0.0; extra == \"dash\"->interpret-core[dash,debug,decisiontree,ebm,lime,linear,notebook,plotly,required,sensitivity,shap,treeinterpreter]>=0.1.18->interpret>=0.1.17->interpret-community==0.1.0.2->azureml-interpret==1.0.69.*->azureml.contrib.interpret) (0.16.0)\n",
      "Requirement already satisfied, skipping upgrade: click>=5.1 in /anaconda/envs/azureml_py36/lib/python3.6/site-packages (from Flask>=1.0.2->dash>=1.0.0; extra == \"dash\"->interpret-core[dash,debug,decisiontree,ebm,lime,linear,notebook,plotly,required,sensitivity,shap,treeinterpreter]>=0.1.18->interpret>=0.1.17->interpret-community==0.1.0.2->azureml-interpret==1.0.69.*->azureml.contrib.interpret) (7.0)\n",
      "Requirement already satisfied, skipping upgrade: Jinja2>=2.10.1 in /anaconda/envs/azureml_py36/lib/python3.6/site-packages (from Flask>=1.0.2->dash>=1.0.0; extra == \"dash\"->interpret-core[dash,debug,decisiontree,ebm,lime,linear,notebook,plotly,required,sensitivity,shap,treeinterpreter]>=0.1.18->interpret>=0.1.17->interpret-community==0.1.0.2->azureml-interpret==1.0.69.*->azureml.contrib.interpret) (2.10.3)\n"
     ]
    },
    {
     "name": "stdout",
     "output_type": "stream",
     "text": [
      "Requirement already satisfied, skipping upgrade: jupyter-core in /anaconda/envs/azureml_py36/lib/python3.6/site-packages (from jupyter-client->ipykernel>=5.1.0; extra == \"notebook\"->interpret-core[dash,debug,decisiontree,ebm,lime,linear,notebook,plotly,required,sensitivity,shap,treeinterpreter]>=0.1.18->interpret>=0.1.17->interpret-community==0.1.0.2->azureml-interpret==1.0.69.*->azureml.contrib.interpret) (4.5.0)\n",
      "Requirement already satisfied, skipping upgrade: pyzmq>=13 in /anaconda/envs/azureml_py36/lib/python3.6/site-packages (from jupyter-client->ipykernel>=5.1.0; extra == \"notebook\"->interpret-core[dash,debug,decisiontree,ebm,lime,linear,notebook,plotly,required,sensitivity,shap,treeinterpreter]>=0.1.18->interpret>=0.1.17->interpret-community==0.1.0.2->azureml-interpret==1.0.69.*->azureml.contrib.interpret) (18.1.0)\n",
      "Requirement already satisfied, skipping upgrade: MarkupSafe>=0.23 in /anaconda/envs/azureml_py36/lib/python3.6/site-packages (from Jinja2>=2.10.1->Flask>=1.0.2->dash>=1.0.0; extra == \"dash\"->interpret-core[dash,debug,decisiontree,ebm,lime,linear,notebook,plotly,required,sensitivity,shap,treeinterpreter]>=0.1.18->interpret>=0.1.17->interpret-community==0.1.0.2->azureml-interpret==1.0.69.*->azureml.contrib.interpret) (1.1.1)\n",
      "Installing collected packages: azureml.contrib.interpret, interpret-community\n",
      "  Found existing installation: interpret-community 0.1.0.4\n",
      "    Uninstalling interpret-community-0.1.0.4:\n",
      "      Successfully uninstalled interpret-community-0.1.0.4\n",
      "Successfully installed azureml.contrib.interpret interpret-community-0.1.0.2\n",
      "Note: you may need to restart the kernel to use updated packages.\n"
     ]
    }
   ],
   "source": [
    "%pip uninstall tensorflow-gpu keras --yes\n",
    "%pip install tensorflow-gpu==1.14 interpret-community==0.1.0.4"
   ]
  },
  {
   "cell_type": "markdown",
   "metadata": {},
   "source": [
    "After installing packages, you must close and reopen the notebook as well as restarting the kernel.\n",
    "\n",
    "Let's make sure we have the right verisons"
   ]
  },
  {
   "cell_type": "code",
   "execution_count": 59,
   "metadata": {},
   "outputs": [
    {
     "name": "stdout",
     "output_type": "stream",
     "text": [
      "1.14.0\n"
     ]
    }
   ],
   "source": [
    "import tensorflow as tf\n",
    "import interpret_community\n",
    "\n",
    "print(tf.version.VERSION)"
   ]
  },
  {
   "cell_type": "code",
   "execution_count": 60,
   "metadata": {},
   "outputs": [
    {
     "name": "stdout",
     "output_type": "stream",
     "text": [
      "SDK version: 1.0.69\n"
     ]
    }
   ],
   "source": [
    "# Check core SDK version number\n",
    "import azureml.core\n",
    "\n",
    "print(\"SDK version:\", azureml.core.VERSION)"
   ]
  },
  {
   "cell_type": "markdown",
   "metadata": {},
   "source": [
    "## Connect To Workspace\n",
    "\n",
    "Just like in the previous tutorials, we will need to connect to a [workspace](https://docs.microsoft.com/en-us/python/api/azureml-core/azureml.core.workspace(class)?view=azure-ml-py).\n",
    "\n",
    "The following code will allow you to create a workspace if you don't already have one created. You must have an Azure subscription to create a workspace:\n",
    "\n",
    "```python\n",
    "from azureml.core import Workspace\n",
    "ws = Workspace.create(name='myworkspace',\n",
    "                      subscription_id='<azure-subscription-id>',\n",
    "                      resource_group='myresourcegroup',\n",
    "                      create_resource_group=True,\n",
    "                      location='eastus2')\n",
    "```\n",
    "\n",
    "**If you are running this on a Notebook VM, you can import the existing workspace.**"
   ]
  },
  {
   "cell_type": "code",
   "execution_count": 1,
   "metadata": {
    "tags": [
     "create workspace"
    ]
   },
   "outputs": [
    {
     "name": "stdout",
     "output_type": "stream",
     "text": [
      "107835-aml-ws\n",
      "aml-rg-107835\n",
      "southcentralus\n",
      "07a3b836-0813-4c05-afd4-3a7ab00358d9\n"
     ]
    }
   ],
   "source": [
    "from azureml.core import Workspace\n",
    "\n",
    "ws = Workspace.from_config()\n",
    "print(ws.name, ws.resource_group, ws.location, ws.subscription_id, sep='\\n')"
   ]
  },
  {
   "cell_type": "markdown",
   "metadata": {},
   "source": [
    "> **Note:** that the above commands reads a config.json file that exists by default within the Notebook VM. If you are running this locally or want to use a different workspace, you must add a config file to your project directory. The config file should have the following schema:\n",
    "\n",
    "```\n",
    "    {\n",
    "        \"subscription_id\": \"<SUBSCRIPTION-ID>\",\n",
    "        \"resource_group\": \"<RESOURCE-GROUP>\",\n",
    "        \"workspace_name\": \"<WORKSPACE-NAME>\"\n",
    "    }\n",
    "```"
   ]
  },
  {
   "cell_type": "markdown",
   "metadata": {},
   "source": [
    "## Create An Experiment\n",
    "\n",
    "**Experiment** is a logical container in an Azure ML Workspace. It hosts run records which can include run metrics and output artifacts from your experiments."
   ]
  },
  {
   "cell_type": "code",
   "execution_count": 2,
   "metadata": {},
   "outputs": [],
   "source": [
    "from azureml.core import Experiment\n",
    "experiment_name = 'explainer-remote-run-tfworld19'\n",
    "experiment = Experiment(workspace=ws, name=experiment_name)"
   ]
  },
  {
   "cell_type": "markdown",
   "metadata": {},
   "source": [
    "## Create Compute Target\n",
    "\n",
    "A [compute target](https://docs.microsoft.com/en-us/python/api/azureml-core/azureml.core.computetarget?view=azure-ml-py) is a designated compute resource/environment where you run your training script or host your service deployment. This location may be your local machine or a cloud-based compute resource. Compute targets can be reused across the workspace for different runs and experiments. \n",
    "\n",
    "**If you completed tutorial 1 of this series, then you should have already created a compute target and can skip this step**\n",
    "\n",
    "Otherwise, run the cell below to create an auto-scaling [Azure Machine Learning Compute](https://docs.microsoft.com/en-us/python/api/azureml-core/azureml.core.compute.amlcompute?view=azure-ml-py) cluster, which is a managed-compute infrastructure that allows the user to easily create a single or multi-node compute. To create the cluster, we need to specify the following parameters:\n",
    "\n",
    "- `vm_size`: The is the type of GPUs that we want to use in our cluster. For this tutorial, we will use **Standard_NC12s_v3 (NVIDIA V100) GPU Machines** .\n",
    "- `idle_seconds_before_scaledown`: This is the number of seconds before a node will scale down in our auto-scaling cluster. We will set this to **6000** seconds. \n",
    "- `min_nodes`: This is the minimum numbers of nodes that the cluster will have. To avoid paying for compute while they are not being used, we will set this to **0** nodes.\n",
    "- `max_modes`: This is the maximum number of nodes that the cluster will scale up to. Will will set this to **2** nodes.\n",
    "\n",
    "**When jobs are submitted to the cluster it takes approximately 5 minutes to allocate new nodes** "
   ]
  },
  {
   "cell_type": "code",
   "execution_count": 3,
   "metadata": {},
   "outputs": [
    {
     "name": "stdout",
     "output_type": "stream",
     "text": [
      "Succeeded\n",
      "AmlCompute wait for completion finished\n",
      "Minimum number of nodes requested have been provisioned\n"
     ]
    }
   ],
   "source": [
    "from azureml.core.compute import AmlCompute, ComputeTarget\n",
    "\n",
    "cluster_name = 'v100cluster'\n",
    "compute_config = AmlCompute.provisioning_configuration(vm_size='Standard_NC12s_v3', \n",
    "                                                       idle_seconds_before_scaledown=6000,\n",
    "                                                       min_nodes=0, \n",
    "                                                       max_nodes=2)\n",
    "\n",
    "compute_target = ComputeTarget.create(ws, cluster_name, compute_config)\n",
    "compute_target.wait_for_completion(show_output=True)"
   ]
  },
  {
   "cell_type": "markdown",
   "metadata": {},
   "source": [
    "**If you already have the compute target created, then you can directly run this cell.**"
   ]
  },
  {
   "cell_type": "code",
   "execution_count": 4,
   "metadata": {},
   "outputs": [],
   "source": [
    "compute_target = ws.compute_targets['v100cluster']"
   ]
  },
  {
   "cell_type": "markdown",
   "metadata": {},
   "source": [
    "## Submit Experiment Run\n",
    "\n",
    "Now that our compute is ready, we can begin to submit our run."
   ]
  },
  {
   "cell_type": "markdown",
   "metadata": {},
   "source": [
    "### Create project directory\n",
    "\n",
    "Create a directory that will contain all the necessary code from your local machine that you will need access to on the remote resource. This includes the training script, and any additional files your training script depends on"
   ]
  },
  {
   "cell_type": "code",
   "execution_count": 5,
   "metadata": {},
   "outputs": [
    {
     "data": {
      "text/plain": [
       "'./TFworld-explainer-remote-run-on-amlcompute/train_explain-model.py'"
      ]
     },
     "execution_count": 5,
     "metadata": {},
     "output_type": "execute_result"
    }
   ],
   "source": [
    "import os\n",
    "import shutil\n",
    "\n",
    "project_folder = './TFworld-explainer-remote-run-on-amlcompute'\n",
    "os.makedirs(project_folder, exist_ok=True)\n",
    "shutil.copy('train_explain-model.py', project_folder)"
   ]
  },
  {
   "cell_type": "markdown",
   "metadata": {},
   "source": [
    "### Submit job to cluster"
   ]
  },
  {
   "cell_type": "code",
   "execution_count": 6,
   "metadata": {},
   "outputs": [
    {
     "data": {
      "text/html": [
       "<table style=\"width:100%\"><tr><th>Experiment</th><th>Id</th><th>Type</th><th>Status</th><th>Details Page</th><th>Docs Page</th></tr><tr><td>explainer-remote-run-tfworld19</td><td>explainer-remote-run-tfworld19_1572371711_23a86907</td><td>azureml.scriptrun</td><td>Starting</td><td><a href=\"https://mlworkspace.azure.ai/portal/subscriptions/07a3b836-0813-4c05-afd4-3a7ab00358d9/resourceGroups/aml-rg-107835/providers/Microsoft.MachineLearningServices/workspaces/107835-aml-ws/experiments/explainer-remote-run-tfworld19/runs/explainer-remote-run-tfworld19_1572371711_23a86907\" target=\"_blank\" rel=\"noopener\">Link to Azure Portal</a></td><td><a href=\"https://docs.microsoft.com/en-us/python/api/azureml-core/azureml.core.script_run.ScriptRun?view=azure-ml-py\" target=\"_blank\" rel=\"noopener\">Link to Documentation</a></td></tr></table>"
      ],
      "text/plain": [
       "Run(Experiment: explainer-remote-run-tfworld19,\n",
       "Id: explainer-remote-run-tfworld19_1572371711_23a86907,\n",
       "Type: azureml.scriptrun,\n",
       "Status: Starting)"
      ]
     },
     "execution_count": 6,
     "metadata": {},
     "output_type": "execute_result"
    }
   ],
   "source": [
    "from azureml.core.runconfig import RunConfiguration\n",
    "from azureml.core.conda_dependencies import CondaDependencies\n",
    "from azureml.core.runconfig import DEFAULT_CPU_IMAGE\n",
    "\n",
    "# create a new runconfig object\n",
    "run_config = RunConfiguration()\n",
    "\n",
    "# signal that you want to use our cluster to execute script.\n",
    "run_config.target = compute_target\n",
    "\n",
    "# enable Docker \n",
    "run_config.environment.docker.enabled = True\n",
    "\n",
    "# set Docker base image to the default CPU-based image\n",
    "run_config.environment.docker.base_image = DEFAULT_CPU_IMAGE\n",
    "\n",
    "# use conda_dependencies.yml to create a conda environment in the Docker image for execution\n",
    "run_config.environment.python.user_managed_dependencies = False\n",
    "\n",
    "\n",
    "pip_packages = [\n",
    "        'azureml-defaults', 'azureml-core', 'azureml-telemetry',\n",
    "        'azureml-dataprep', 'sklearn', 'sklearn-pandas', 'tensorflow==1.14.0',\n",
    "        'azureml-contrib-interpret', 'azureml-interpret'\n",
    "]\n",
    "\n",
    "\n",
    "index_url = 'https://azuremlsdktestpypi.azureedge.net/sdk-release/Candidate/604C89A437BA41BD942B4F46D9A3591D/'\n",
    "run_config.environment.python.conda_dependencies = CondaDependencies.create(pip_packages=pip_packages,\n",
    "                                                                            pin_sdk_version=False, \n",
    "                                                                            pip_indexurl=index_url)\n",
    "\n",
    "\n",
    "\n",
    "# Now submit a run on AmlCompute\n",
    "from azureml.core.script_run_config import ScriptRunConfig\n",
    "\n",
    "script_run_config = ScriptRunConfig(source_directory=project_folder,\n",
    "                                    script='train_explain-model.py',\n",
    "                                    run_config=run_config)\n",
    "\n",
    "run = experiment.submit(script_run_config)\n",
    "\n",
    "# Show run details\n",
    "run"
   ]
  },
  {
   "cell_type": "markdown",
   "metadata": {},
   "source": [
    "Note: if you need to cancel a run, you can follow [these instructions](https://aka.ms/aml-docs-cancel-run)."
   ]
  },
  {
   "cell_type": "code",
   "execution_count": 7,
   "metadata": {},
   "outputs": [
    {
     "data": {
      "application/vnd.jupyter.widget-view+json": {
       "model_id": "0138bca23c5a4ba69d43ee60245bd61a",
       "version_major": 2,
       "version_minor": 0
      },
      "text/plain": [
       "_UserRunWidget(widget_settings={'childWidgetDisplay': 'popup', 'send_telemetry': False, 'log_level': 'INFO', '…"
      ]
     },
     "metadata": {},
     "output_type": "display_data"
    }
   ],
   "source": [
    "from azureml.widgets import RunDetails\n",
    "RunDetails(run).show()"
   ]
  },
  {
   "cell_type": "markdown",
   "metadata": {},
   "source": [
    "## Download \n",
    "Download model explanation data."
   ]
  },
  {
   "cell_type": "code",
   "execution_count": 8,
   "metadata": {},
   "outputs": [
    {
     "ename": "AttributeError",
     "evalue": "'NoneType' object has no attribute 'local_importance_values'",
     "output_type": "error",
     "traceback": [
      "\u001b[0;31m---------------------------------------------------------------------------\u001b[0m",
      "\u001b[0;31mAttributeError\u001b[0m                            Traceback (most recent call last)",
      "\u001b[0;32m<ipython-input-8-b17eda36f0e3>\u001b[0m in \u001b[0;36m<module>\u001b[0;34m\u001b[0m\n\u001b[1;32m      4\u001b[0m \u001b[0mclient\u001b[0m \u001b[0;34m=\u001b[0m \u001b[0mExplanationClient\u001b[0m\u001b[0;34m.\u001b[0m\u001b[0mfrom_run\u001b[0m\u001b[0;34m(\u001b[0m\u001b[0mrun\u001b[0m\u001b[0;34m)\u001b[0m\u001b[0;34m\u001b[0m\u001b[0;34m\u001b[0m\u001b[0m\n\u001b[1;32m      5\u001b[0m \u001b[0mglobal_explanation\u001b[0m \u001b[0;34m=\u001b[0m \u001b[0mclient\u001b[0m\u001b[0;34m.\u001b[0m\u001b[0mdownload_model_explanation\u001b[0m\u001b[0;34m(\u001b[0m\u001b[0;34m)\u001b[0m\u001b[0;34m\u001b[0m\u001b[0;34m\u001b[0m\u001b[0m\n\u001b[0;32m----> 6\u001b[0;31m \u001b[0mlocal_importance_values\u001b[0m \u001b[0;34m=\u001b[0m \u001b[0mglobal_explanation\u001b[0m\u001b[0;34m.\u001b[0m\u001b[0mlocal_importance_values\u001b[0m\u001b[0;34m\u001b[0m\u001b[0;34m\u001b[0m\u001b[0m\n\u001b[0m\u001b[1;32m      7\u001b[0m \u001b[0mexpected_values\u001b[0m \u001b[0;34m=\u001b[0m \u001b[0mglobal_explanation\u001b[0m\u001b[0;34m.\u001b[0m\u001b[0mexpected_values\u001b[0m\u001b[0;34m\u001b[0m\u001b[0;34m\u001b[0m\u001b[0m\n",
      "\u001b[0;31mAttributeError\u001b[0m: 'NoneType' object has no attribute 'local_importance_values'"
     ]
    }
   ],
   "source": [
    "from azureml.contrib.interpret.explanation.explanation_client import ExplanationClient\n",
    "\n",
    "# Get model explanation data\n",
    "client = ExplanationClient.from_run(run)\n",
    "global_explanation = client.download_model_explanation()\n",
    "local_importance_values = global_explanation.local_importance_values\n",
    "expected_values = global_explanation.expected_values\n"
   ]
  },
  {
   "cell_type": "code",
   "execution_count": null,
   "metadata": {},
   "outputs": [],
   "source": [
    "# Or you can use the saved run.id to retrive the feature importance values\n",
    "client = ExplanationClient.from_run_id(ws, experiment_name, run.id)\n",
    "global_explanation = client.download_model_explanation()\n",
    "local_importance_values = global_explanation.local_importance_values\n",
    "expected_values = global_explanation.expected_values"
   ]
  },
  {
   "cell_type": "code",
   "execution_count": null,
   "metadata": {},
   "outputs": [],
   "source": [
    "# Get the top k (e.g., 4) most important features with their importance values\n",
    "global_explanation_topk = client.download_model_explanation(top_k=4)\n",
    "global_importance_values = global_explanation_topk.get_ranked_global_values()\n",
    "global_importance_names = global_explanation_topk.get_ranked_global_names()"
   ]
  },
  {
   "cell_type": "code",
   "execution_count": null,
   "metadata": {},
   "outputs": [],
   "source": [
    "print('global importance values: {}'.format(global_importance_values))\n",
    "print('global importance names: {}'.format(global_importance_names))"
   ]
  },
  {
   "cell_type": "code",
   "execution_count": 78,
   "metadata": {},
   "outputs": [],
   "source": [
    "# Get the top k (e.g., 4) most important features with their importance values\n",
    "global_explanation = client.download_model_explanation()\n",
    "global_importance_values = global_explanation.get_ranked_global_values()\n",
    "global_importance_names = global_explanation.get_ranked_global_names()"
   ]
  },
  {
   "cell_type": "code",
   "execution_count": 79,
   "metadata": {},
   "outputs": [
    {
     "name": "stdout",
     "output_type": "stream",
     "text": [
      "global importance values: [0.03999193825435882, 0.031464853252919395, 0.02760060189002182, 0.02456048385916402, 0.02258847868616334, 0.022035631877649273, 0.020207199700294994, 0.020114264275080666, 0.019977203398518766, 0.019378221757655807, 0.0170920545860935, 0.015884334486342123, 0.01586617894132825, 0.013408480313220787, 0.012007829060718718, 0.011751867982559418, 0.011463914137255388, 0.011372582275944364, 0.01032799605886111, 0.010208142977892548, 0.010004060575232718, 0.009948627988387974, 0.008879074315566815, 0.008483158706590357, 0.007304193859418363, 0.0056123067810683784, 0.005469643877212432, 0.005419917839260414, 0.004600788428833444, 0.0044333516100935]\n",
      "global importance names: ['OverTime', 'MaritalStatus', 'EducationField', 'JobRole', 'YearsInCurrentRole', 'Age', 'JobSatisfaction', 'EnvironmentSatisfaction', 'RelationshipSatisfaction', 'TrainingTimesLastYear', 'JobInvolvement', 'WorkLifeBalance', 'DistanceFromHome', 'Department', 'NumCompaniesWorked', 'JobLevel', 'StockOptionLevel', 'YearsSinceLastPromotion', 'YearsWithCurrManager', 'MonthlyIncome', 'TotalWorkingYears', 'DailyRate', 'YearsAtCompany', 'BusinessTravel', 'Gender', 'MonthlyRate', 'PerformanceRating', 'PercentSalaryHike', 'HourlyRate', 'Education']\n"
     ]
    }
   ],
   "source": [
    "print('global importance values: {}'.format(global_importance_values))\n",
    "print('global importance names: {}'.format(global_importance_names))"
   ]
  },
  {
   "cell_type": "code",
   "execution_count": 80,
   "metadata": {},
   "outputs": [
    {
     "name": "stdout",
     "output_type": "stream",
     "text": [
      "{'OverTime': 0.03999193825435882, 'MaritalStatus': 0.031464853252919395, 'EducationField': 0.02760060189002182, 'JobRole': 0.02456048385916402, 'YearsInCurrentRole': 0.02258847868616334, 'Age': 0.022035631877649273, 'JobSatisfaction': 0.020207199700294994, 'EnvironmentSatisfaction': 0.020114264275080666, 'RelationshipSatisfaction': 0.019977203398518766, 'TrainingTimesLastYear': 0.019378221757655807, 'JobInvolvement': 0.0170920545860935, 'WorkLifeBalance': 0.015884334486342123, 'DistanceFromHome': 0.01586617894132825, 'Department': 0.013408480313220787, 'NumCompaniesWorked': 0.012007829060718718, 'JobLevel': 0.011751867982559418, 'StockOptionLevel': 0.011463914137255388, 'YearsSinceLastPromotion': 0.011372582275944364, 'YearsWithCurrManager': 0.01032799605886111, 'MonthlyIncome': 0.010208142977892548, 'TotalWorkingYears': 0.010004060575232718, 'DailyRate': 0.009948627988387974, 'YearsAtCompany': 0.008879074315566815, 'BusinessTravel': 0.008483158706590357, 'Gender': 0.007304193859418363, 'MonthlyRate': 0.0056123067810683784, 'PerformanceRating': 0.005469643877212432, 'PercentSalaryHike': 0.005419917839260414, 'HourlyRate': 0.004600788428833444, 'Education': 0.0044333516100935}\n"
     ]
    }
   ],
   "source": [
    "print(global_explanation.get_feature_importance_dict())"
   ]
  }
 ],
 "metadata": {
  "authors": [
   {
    "name": "mesameki"
   }
  ],
  "kernelspec": {
   "display_name": "Python 3",
   "language": "python",
   "name": "python3"
  },
  "language_info": {
   "codemirror_mode": {
    "name": "ipython",
    "version": 3
   },
   "file_extension": ".py",
   "mimetype": "text/x-python",
   "name": "python",
   "nbconvert_exporter": "python",
   "pygments_lexer": "ipython3",
   "version": "3.6.9"
  }
 },
 "nbformat": 4,
 "nbformat_minor": 2
}
